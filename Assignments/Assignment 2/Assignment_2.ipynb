{
 "cells": [
  {
   "cell_type": "markdown",
   "metadata": {},
   "source": [
    "### 1. Write a python program to scrape data for “Data Analyst” Job position in “Bangalore” location. You have to scrape the job-title, job-location, company_name, experience_required. You have to scrape first 10 jobs data"
   ]
  },
  {
   "cell_type": "code",
   "execution_count": null,
   "metadata": {},
   "outputs": [],
   "source": [
    "import selenium\n",
    "import pandas as pd\n",
    "from selenium import webdriver"
   ]
  },
  {
   "cell_type": "code",
   "execution_count": null,
   "metadata": {},
   "outputs": [],
   "source": [
    "driver = webdriver.Chrome(r\"C:\\Users\\raimu\\chromedriver.exe\")\n"
   ]
  },
  {
   "cell_type": "code",
   "execution_count": null,
   "metadata": {},
   "outputs": [],
   "source": [
    "driver = webdriver.Chrome('chromedriver.exe')"
   ]
  },
  {
   "cell_type": "code",
   "execution_count": null,
   "metadata": {},
   "outputs": [],
   "source": [
    "url = \"https://www.naukri.com/\"\n",
    "driver.get(url)"
   ]
  },
  {
   "cell_type": "code",
   "execution_count": null,
   "metadata": {},
   "outputs": [],
   "source": [
    "search_desg = driver.find_element_by_id('qsb-keyword-sugg')\n",
    "search_desg"
   ]
  },
  {
   "cell_type": "code",
   "execution_count": null,
   "metadata": {},
   "outputs": [],
   "source": [
    "search_desg.send_keys(\"Data Analyst\")"
   ]
  },
  {
   "cell_type": "code",
   "execution_count": null,
   "metadata": {},
   "outputs": [],
   "source": [
    "search_loc = driver.find_element_by_id('qsb-location-sugg')\n",
    "search_loc.send_keys('Bangalore')"
   ]
  },
  {
   "cell_type": "code",
   "execution_count": null,
   "metadata": {},
   "outputs": [],
   "source": [
    "search_button = driver.find_element_by_xpath(\"//button[@class = 'btn']\")\n",
    "search_button.click()"
   ]
  },
  {
   "cell_type": "code",
   "execution_count": null,
   "metadata": {},
   "outputs": [],
   "source": [
    "## Extracting all the Job Titles from the page\n",
    "job_titles_tags = driver.find_element_by_xpath(\"//a[@class = 'title fw500 ellipsis']\")\n",
    "job_titles_tags"
   ]
  },
  {
   "cell_type": "code",
   "execution_count": null,
   "metadata": {},
   "outputs": [],
   "source": [
    "job_titles = []\n",
    "for i in job_titles_tags :\n",
    "    job_titles.append(i.text)\n",
    "job_titles"
   ]
  },
  {
   "cell_type": "code",
   "execution_count": null,
   "metadata": {},
   "outputs": [],
   "source": [
    "## Extracting all the tags having the Company name\n",
    "company_title_tags = driver.find_element_by_xpath(\"//a[@class = 'subTitle ellipsis fleft']\")\n",
    "company_title_tags"
   ]
  },
  {
   "cell_type": "code",
   "execution_count": null,
   "metadata": {},
   "outputs": [],
   "source": [
    "company_name = []\n",
    "for i in company_title_tags :\n",
    "    company_name.append(i.text)\n",
    "company_name"
   ]
  },
  {
   "cell_type": "code",
   "execution_count": null,
   "metadata": {},
   "outputs": [],
   "source": [
    "## Extracting all the tags having the required work experience\n",
    "workexp_tags = driver.find_element_by_xpath(\"//li[@class = 'fleft grey-text br2 placeHolderLi experience']//span\")\n",
    "workexp_tags"
   ]
  },
  {
   "cell_type": "code",
   "execution_count": null,
   "metadata": {},
   "outputs": [],
   "source": [
    "work_exp = []\n",
    "for i in workexp_tags :\n",
    "    work_exp.append(i.text)\n",
    "work_exp"
   ]
  },
  {
   "cell_type": "code",
   "execution_count": null,
   "metadata": {},
   "outputs": [],
   "source": [
    "## Extracting all tags having the location\n",
    "location_tags = driver.find_element_by_xpath(\"//li[@class = 'fleft grey-text br2 placeHolderLi location']//span\")\n",
    "location_tags"
   ]
  },
  {
   "cell_type": "code",
   "execution_count": null,
   "metadata": {},
   "outputs": [],
   "source": [
    "location = []\n",
    "for i in location_tags :\n",
    "    location.append(i.text)\n",
    "location"
   ]
  },
  {
   "cell_type": "code",
   "execution_count": null,
   "metadata": {},
   "outputs": [],
   "source": [
    "# Checking whether the length of all the desired list is same\n",
    "print(len(job_titles), len(company_name), len(work_exp), len(location))"
   ]
  },
  {
   "cell_type": "code",
   "execution_count": null,
   "metadata": {},
   "outputs": [],
   "source": [
    "# Creating a Dataframe for listing all the above extracted parameters\n",
    "job_list = pd.DataFrame({})\n",
    "job_list['Designation'] = job_titles\n",
    "job_list['Company Name'] = company_name\n",
    "job_list['Work Experience'] = work_exp\n",
    "job_list['Location'] = location\n",
    "job_list.index = job_list.index + 1"
   ]
  },
  {
   "cell_type": "code",
   "execution_count": null,
   "metadata": {},
   "outputs": [],
   "source": [
    "job_list[:10]"
   ]
  },
  {
   "cell_type": "markdown",
   "metadata": {},
   "source": [
    "### 2. Write a python program to scrape data for “Data Scientist” Job position in “Bangalore” location. You have to scrape the job-title, job-location, company_name, full job-description. You have to scrape first 10 jobs data"
   ]
  },
  {
   "cell_type": "code",
   "execution_count": null,
   "metadata": {},
   "outputs": [],
   "source": [
    "search_desg = driver.find_element_by_id('qsb-keyword-sugg')\n",
    "search_desg\n",
    "search_desg.send_keys(\"Data Scientist\")"
   ]
  },
  {
   "cell_type": "code",
   "execution_count": null,
   "metadata": {},
   "outputs": [],
   "source": [
    "search_loc = driver.find_element_by_id('qsb-location-sugg')\n",
    "search_loc.send_keys('Bangalore')"
   ]
  },
  {
   "cell_type": "code",
   "execution_count": null,
   "metadata": {},
   "outputs": [],
   "source": [
    "search_button = driver.find_element_by_xpath(\"//button[@class = 'btn']\")\n",
    "search_button.click()"
   ]
  },
  {
   "cell_type": "code",
   "execution_count": null,
   "metadata": {},
   "outputs": [],
   "source": [
    "## Extracting all the Job Titles from the page\n",
    "job_titles_tags = driver.find_element_by_xpath(\"//a[@class = 'title fw500 ellipsis']\")\n",
    "job_titles_tags"
   ]
  },
  {
   "cell_type": "code",
   "execution_count": null,
   "metadata": {},
   "outputs": [],
   "source": [
    "job_titles = []\n",
    "for i in job_titles_tags :\n",
    "    job_titles.append(i.text)\n",
    "job_titles"
   ]
  },
  {
   "cell_type": "code",
   "execution_count": null,
   "metadata": {},
   "outputs": [],
   "source": [
    "## Extracting all the tags having the Company name\n",
    "company_title_tags = driver.find_element_by_xpath(\"//a[@class = 'subTitle ellipsis fleft']\")\n",
    "company_title_tags"
   ]
  },
  {
   "cell_type": "code",
   "execution_count": null,
   "metadata": {},
   "outputs": [],
   "source": [
    "company_name = []\n",
    "for i in company_title_tags :\n",
    "    company_name.append(i.text)\n",
    "company_name"
   ]
  },
  {
   "cell_type": "code",
   "execution_count": null,
   "metadata": {},
   "outputs": [],
   "source": [
    "## Extracting all tags having the location\n",
    "location_tags = driver.find_element_by_xpath(\"//li[@class = 'fleft grey-text br2 placeHolderLi location']//span\")\n",
    "location_tags"
   ]
  },
  {
   "cell_type": "code",
   "execution_count": null,
   "metadata": {},
   "outputs": [],
   "source": [
    "location = []\n",
    "for i in location_tags :\n",
    "    location.append(i.text)\n",
    "location"
   ]
  },
  {
   "cell_type": "code",
   "execution_count": null,
   "metadata": {},
   "outputs": [],
   "source": [
    "## Extracting all links of jobs for extracting the job description\n",
    "job_information_url = []\n",
    "\n",
    "url = driver.find_element_by_xpath('//a[@class = \"title fw500 ellipsis\"]')\n",
    "for i in url:\n",
    "    job_information_url.append(i.get_attribute('href'))\n",
    "job_information_url"
   ]
  },
  {
   "cell_type": "code",
   "execution_count": null,
   "metadata": {},
   "outputs": [],
   "source": [
    "job_desc = []\n",
    "for i in job_information_url:\n",
    "    driver.get(i)\n",
    "    try:\n",
    "        job_description = driver.find_element_by_xpath(\"//div[@class = 'dang-inner-html']\") \n",
    "        job_desc.append(job_description.text)\n",
    "    except:\n",
    "        pass\n",
    "job_desc"
   ]
  },
  {
   "cell_type": "code",
   "execution_count": null,
   "metadata": {},
   "outputs": [],
   "source": [
    "# Checking whether the length of all the desired list is same\n",
    "print(len(job_titles), len(company_name), len(location), len(job_desc))"
   ]
  },
  {
   "cell_type": "code",
   "execution_count": null,
   "metadata": {},
   "outputs": [],
   "source": [
    "# Creating a Dataframe for listing all the above extracted parameters\n",
    "job_list = pd.DataFrame({})\n",
    "job_list['Designation'] = job_titles\n",
    "job_list['Company Name'] = company_name\n",
    "job_list['Location'] = location\n",
    "job_list['Job Description'] = job_desc\n",
    "job_list.index = job_list.index + 1"
   ]
  },
  {
   "cell_type": "code",
   "execution_count": null,
   "metadata": {},
   "outputs": [],
   "source": [
    "job_list[:10]"
   ]
  },
  {
   "cell_type": "markdown",
   "metadata": {},
   "source": [
    "### Code for Question 3"
   ]
  },
  {
   "cell_type": "code",
   "execution_count": null,
   "metadata": {},
   "outputs": [],
   "source": [
    "search_desg = driver.find_element_by_id('qsb-keyword-sugg')\n",
    "search_desg\n",
    "search_desg.send_keys(\"Data Scientist\")"
   ]
  },
  {
   "cell_type": "code",
   "execution_count": null,
   "metadata": {},
   "outputs": [],
   "source": [
    "search_button = driver.find_element_by_xpath(\"//button[@class = 'btn']\")\n",
    "search_button.click()"
   ]
  },
  {
   "cell_type": "code",
   "execution_count": null,
   "metadata": {},
   "outputs": [],
   "source": [
    "filter_location = driver.find_element_by_xpath('/html/body/div[1]/div[3]/div[2]/section[1]/div[2]/div[3]/div[2]/div[1]/label/p')\n",
    "filter_location.click()"
   ]
  },
  {
   "cell_type": "code",
   "execution_count": null,
   "metadata": {},
   "outputs": [],
   "source": [
    "filter_salary = driver.find_element_by_xpath('/html/body/div[1]/div[3]/div[2]/section[1]/div[2]/div[4]/div[2]/div[2]/label/p')\n",
    "filter_salary.click()"
   ]
  },
  {
   "cell_type": "code",
   "execution_count": null,
   "metadata": {},
   "outputs": [],
   "source": [
    "## Extracting all the Job Titles from the page\n",
    "job_titles_tags = driver.find_element_by_xpath(\"//a[@class = 'title fw500 ellipsis']\")\n",
    "job_titles_tags"
   ]
  },
  {
   "cell_type": "code",
   "execution_count": null,
   "metadata": {},
   "outputs": [],
   "source": [
    "job_titles = []\n",
    "for i in job_titles_tags :\n",
    "    job_titles.append(i.text)\n",
    "job_titles"
   ]
  },
  {
   "cell_type": "code",
   "execution_count": null,
   "metadata": {},
   "outputs": [],
   "source": [
    "## Extracting all the tags having the Company name\n",
    "company_title_tags = driver.find_element_by_xpath(\"//a[@class = 'subTitle ellipsis fleft']\")\n",
    "company_title_tags"
   ]
  },
  {
   "cell_type": "code",
   "execution_count": null,
   "metadata": {},
   "outputs": [],
   "source": [
    "company_name = []\n",
    "for i in company_title_tags :\n",
    "    company_name.append(i.text)\n",
    "company_name"
   ]
  },
  {
   "cell_type": "code",
   "execution_count": null,
   "metadata": {},
   "outputs": [],
   "source": [
    "## Extracting all tags having the location\n",
    "location_tags = driver.find_element_by_xpath(\"//li[@class = 'fleft grey-text br2 placeHolderLi location']//span\")\n",
    "location_tags"
   ]
  },
  {
   "cell_type": "code",
   "execution_count": null,
   "metadata": {},
   "outputs": [],
   "source": [
    "location = []\n",
    "for i in location_tags :\n",
    "    location.append(i.text)\n",
    "location"
   ]
  },
  {
   "cell_type": "code",
   "execution_count": null,
   "metadata": {},
   "outputs": [],
   "source": [
    "## Extracting all the tags having the required work experience\n",
    "workexp_tags = driver.find_element_by_xpath(\"//li[@class = 'fleft grey-text br2 placeHolderLi experience']//span\")\n",
    "workexp_tags"
   ]
  },
  {
   "cell_type": "code",
   "execution_count": null,
   "metadata": {},
   "outputs": [],
   "source": [
    "work_exp = []\n",
    "for i in workexp_tags :\n",
    "    work_exp.append(i.text)\n",
    "work_exp"
   ]
  },
  {
   "cell_type": "code",
   "execution_count": null,
   "metadata": {},
   "outputs": [],
   "source": [
    "# Checking whether the length of all the desired list is same\n",
    "print(len(job_titles), len(company_name), len(location), len(job_desc))"
   ]
  },
  {
   "cell_type": "code",
   "execution_count": null,
   "metadata": {},
   "outputs": [],
   "source": [
    "# Creating a Dataframe for listing all the above extracted parameters\n",
    "job_list = pd.DataFrame({})\n",
    "job_list['Designation'] = job_titles\n",
    "job_list['Company Name'] = company_name\n",
    "job_list['Location'] = location\n",
    "job_list['Work Experience'] = work_exp\n",
    "job_list.index = job_list.index + 1\n",
    "job_list[:10]"
   ]
  }
 ],
 "metadata": {
  "kernelspec": {
   "display_name": "Python 3",
   "language": "python",
   "name": "python3"
  },
  "language_info": {
   "codemirror_mode": {
    "name": "ipython",
    "version": 3
   },
   "file_extension": ".py",
   "mimetype": "text/x-python",
   "name": "python",
   "nbconvert_exporter": "python",
   "pygments_lexer": "ipython3",
   "version": "3.7.6"
  }
 },
 "nbformat": 4,
 "nbformat_minor": 4
}
