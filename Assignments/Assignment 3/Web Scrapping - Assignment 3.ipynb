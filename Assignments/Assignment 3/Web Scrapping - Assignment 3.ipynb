{
 "cells": [
  {
   "cell_type": "markdown",
   "metadata": {},
   "source": [
    "### Write a python program which searches all the product under a particular product vertical from www.amazon.in. The product verticals to be searched will be taken as input from user. For e.g. If user input is ‘guitar’. Then search for guitars"
   ]
  },
  {
   "cell_type": "code",
   "execution_count": 22,
   "metadata": {},
   "outputs": [],
   "source": [
    "# Importing the necessary libraries\n",
    "import selenium\n",
    "import pandas as pd\n",
    "from selenium import webdriver\n",
    "import time"
   ]
  },
  {
   "cell_type": "code",
   "execution_count": 23,
   "metadata": {},
   "outputs": [],
   "source": [
    "# Importing the web driver\n",
    "driver = webdriver.Chrome(r\"C:\\Users\\raimu\\chromedriver.exe\")"
   ]
  },
  {
   "cell_type": "code",
   "execution_count": 5,
   "metadata": {},
   "outputs": [],
   "source": [
    "url = 'https://www.amazon.in/'\n",
    "driver.get(url)"
   ]
  },
  {
   "cell_type": "code",
   "execution_count": 6,
   "metadata": {},
   "outputs": [
    {
     "data": {
      "text/plain": [
       "<selenium.webdriver.remote.webelement.WebElement (session=\"45dc1a20e3b0f82e5317e3fb37d5f935\", element=\"ac9c858f-8f93-45e8-9a05-d530c6bef373\")>"
      ]
     },
     "execution_count": 6,
     "metadata": {},
     "output_type": "execute_result"
    }
   ],
   "source": [
    "search = driver.find_element_by_id('twotabsearchtextbox')\n",
    "search"
   ]
  },
  {
   "cell_type": "code",
   "execution_count": 7,
   "metadata": {},
   "outputs": [
    {
     "name": "stdout",
     "output_type": "stream",
     "text": [
      "Enter the item you want to search :mobile\n"
     ]
    }
   ],
   "source": [
    "# Taking the search option as an input from the user\n",
    "\n",
    "search_item = input(\"Enter the item you want to search :\")"
   ]
  },
  {
   "cell_type": "code",
   "execution_count": 8,
   "metadata": {},
   "outputs": [],
   "source": [
    "search.send_keys(search_item)"
   ]
  },
  {
   "cell_type": "code",
   "execution_count": 9,
   "metadata": {},
   "outputs": [],
   "source": [
    "find_btn = driver.find_element_by_xpath('//span[@class = \"nav-search-submit-text nav-sprite nav-progressive-attribute\"]')\n",
    "find_btn.click()"
   ]
  },
  {
   "cell_type": "code",
   "execution_count": 10,
   "metadata": {},
   "outputs": [
    {
     "data": {
      "text/plain": [
       "['https://www.amazon.in/s?k=mobile&qid=1626807557&ref=sr_pg_1',\n",
       " 'https://www.amazon.in/s?k=mobile&page=2&qid=1626807557&ref=sr_pg_2',\n",
       " 'https://www.amazon.in/s?k=mobile&page=3&qid=1626807557&ref=sr_pg_3',\n",
       " 'https://www.amazon.in/s?k=mobile&page=2&qid=1626807557&ref=sr_pg_1']"
      ]
     },
     "execution_count": 10,
     "metadata": {},
     "output_type": "execute_result"
    }
   ],
   "source": [
    "# Loading all the avialable webpage\n",
    "\n",
    "page_url = []\n",
    "next_page = driver.find_elements_by_xpath(\"//div[@class = 'a-text-center']//a\")\n",
    "for i in next_page :\n",
    "    page_url.append(i.get_attribute(\"href\"))\n",
    "page_url"
   ]
  },
  {
   "cell_type": "code",
   "execution_count": 11,
   "metadata": {},
   "outputs": [
    {
     "data": {
      "text/plain": [
       "['OnePlus 9 Pro 5G (Morning Mist, 8GB RAM, 128GB Storage)',\n",
       " 'OnePlus 9 5G (Arctic Sky, 8GB RAM, 128GB Storage)',\n",
       " 'Redmi 9A (Nature Green, 2GB RAM, 32GB Storage) | 2GHz Octa-core Helio G25 Processor | 5000 mAh Battery',\n",
       " 'Tecno Spark 7T(Jewel Blue, 4GB RAM, 64GB Storage) 6000 mAh Battery| 48 MP AI Dual Rear Camera, 6.52 Handy Size',\n",
       " 'realme C11 (2021) (Cool Blue, 2GB RAM, 32GB Storage) with No Cost EMI/Additional Exchange Offers',\n",
       " 'Samsung Galaxy M11 (Metallic Blue, 4GB RAM, 64GB Storage) with No Cost EMI/Additional Exchange Offers',\n",
       " 'Samsung Galaxy M11 (Black, 4GB RAM, 64GB Storage) with No Cost EMI/Additional Exchange Offers',\n",
       " 'realme narzo 20 (Glory Sliver, 4GB RAM, 128GB Storage) with No Cost EMI/Additional Exchange Offers',\n",
       " 'Redmi 9 (Sky Blue, 4GB RAM, 64GB Storage)| 5000 mAh| 2.3GHz Mediatek Helio G35 Octa core Processor',\n",
       " 'Samsung Galaxy M11 (Violet, 4GB RAM, 64GB Storage) with No Cost EMI/Additional Exchange Offers',\n",
       " 'I KALL K380 Smartphone (7.12 Inch, 4GB, 32GB) (Blue)',\n",
       " 'OnePlus 9R 5G (Carbon Black, 12GB RAM, 256 GB Storage)',\n",
       " 'Redmi 9 (Carbon Black, 4GB RAM, 64GB Storage) | 5000 mAh| 2.3GHz Mediatek Helio G35 Octa core Processor',\n",
       " 'realme C11 (2021) (Cool Grey, 2GB RAM, 32GB Storage) with No Cost EMI/Additional Exchange Offers',\n",
       " 'Redmi 9A (Midnight Black 2GB RAM 32GB Storage) | 2GHz Octa-core Helio G25 Processor | 5000 mAh Battery',\n",
       " 'Panasonic Eluga i7 (2GB RAM, 16GB Storage, Finger Print Sensor, 4000mAh Battery) (Black)',\n",
       " 'Redmi Note 10 (Shadow Black, 4GB RAM, 64GB Storage) - Amoled Dot Display | 48MP Sony Sensor IMX582 | Snapdragon 678 Processor',\n",
       " 'Xifo Leeco LETV X527 (3 GB 32 GB) 4G Volte Smartphone 5.5 Inch Display (Desire Rosegold)',\n",
       " 'Maplin Ismart I1 Reno (2 GB 16 GB) 5.0 inch Touchscreen Smartphone Dazzeling Goid',\n",
       " 'Realme narzo 30A (Laser Blue, 3GB RAM, 32GB Storage) with No Cost EMI/Additional Exchange Offers',\n",
       " 'New Apple iPhone 12 Mini (256GB) - Green',\n",
       " 'Oppo A31 (Fantasy White, 6GB RAM, 128GB Storage) with No Cost EMI/Additional Exchange Offers',\n",
       " 'OnePlus 9 5G (Astral Black, 8GB RAM, 128GB Storage)',\n",
       " 'OPPO A74 5G (Fantastic Purple, 6GB RAM, 128GB Storage)| 5000 mAh | 18W Fast Charge | 90Hz Super Amoled Display',\n",
       " 'Oppo A31 (Mystery Black, 6GB RAM, 128GB Storage) with No Cost EMI/Additional Exchange Offers',\n",
       " 'Redmi 9 (Sporty Orange, 4GB RAM, 64GB Storage) | 5000 mAh| 2.3GHz Mediatek Helio G35 Octa core Processor',\n",
       " 'Panasonic Eluga I6 (Black, 2GB Ram, 16GB Storage) - 3 Month No Cost EMI',\n",
       " 'Oppo A31 (Fantasy White, 6GB RAM, 128GB Storage) with No Cost EMI/Additional Exchange Offers',\n",
       " 'Samsung Galaxy M31 (Ocean Blue, 8GB RAM, 128GB Storage) 6 Months Free Screen Replacement for Prime',\n",
       " 'Redmi 9A (Sea Blue 2GB RAM 32GB Storage) | 2GHz Octa-core Helio G25 Processor | 5000 mAh Battery',\n",
       " 'Redmi 9 Power (Mighty Black, 6GB RAM, 128GB Storage) - 6000mAh Battery |FHD+ Screen| 48MP Quad Camera | Snapdragon 662 Processor | Alexa Hands-Free Capable',\n",
       " \"itel A23 Pro Jio (Lake Blue, 1GB RAM, 8 GB Storage, 5'' Bright Display) (L5006C)\",\n",
       " 'Oppo A31 (Mystery Black, 6GB RAM, 128GB Storage) with No Cost EMI/Additional Exchange Offers',\n",
       " 'Samsung Galaxy M32 (Light Blue, 4GB RAM, 64GB Storage) 6 Months Free Screen Replacement for Prime',\n",
       " 'OnePlus Nord CE 5G (Blue Void, 12GB RAM, 256GB Storage)',\n",
       " 'Gionee F11 Black (3GB Ram 32GB ROM) 5000mAh Battery, Dual Camera',\n",
       " 'Panasonic Eluga I8 (Black, 3GB RAM, 32GB Storage)',\n",
       " 'Redmi Note 9 (Pebble Grey, 4GB RAM 64GB Storage) - 48MP Quad Camera & Full HD+ Display',\n",
       " 'Tecno Spark Go 2021 (Maldives Blue, 2GB RAM, 32GB Storage) | 5000mAh| 6.52\" Display Smartphone',\n",
       " 'Samsung Galaxy M51 (Electric Blue, 6GB RAM, 128GB Storage) 6 Months Free Screen Replacement for Prime',\n",
       " 'Tecno Spark 7T(Magnet Black, 4GB RAM,64GB Storage) 6000 mAh Battery| 48 MP AI Dual Rear Camera',\n",
       " 'Samsung Galaxy M02s (Blue,4GB RAM, 64GB Storage) | 5000 mAh | Triple Camera',\n",
       " 'Tecno Spark 7T(Jewel Blue, 4GB RAM, 64GB Storage) 6000 mAh Battery| 48 MP AI Dual Rear Camera, 6.52 Handy Size',\n",
       " 'IKALL K800 Blue, 2GB RAM, 16GB Storage',\n",
       " 'Tecno Spark 7 Pro (Alps Blue, 4GB RAM 64GB Storage)',\n",
       " 'I KALL K280 Smartphone (6.26 Inch, 32GB, Black)',\n",
       " 'Gionee F8 Neo (Blue, 2GB RAM, 32GB Storage)',\n",
       " 'Tecno Spark 7 (Spruce Green, 2GB RAM, 32 GB Storage) - 6000mAh Battery|16 MP Dual Camera| 6.52” Dot Notch Display',\n",
       " 'I KALL K380 Smartphone (7.12 Inch, 4GB, 32GB) (Blue)',\n",
       " 'Redmi 9 Prime (Sunrise Flare, 4GB RAM, 64GB Storage)- Full HD+ Display & AI Quad Camera',\n",
       " 'Redmi 9A(Midnight Black 3GB RAM 32GB Storage) | 2GHz Octa-core Helio G25 Processor | 5000 mAh Battery',\n",
       " 'Nokia C3 Android 10 Smartphone with 2GB RAM 16GB Storage, All-Day Battery and Fingerprint Sensor – Nordic Blue',\n",
       " \"iQOO Z3 5G (Cyber Blue, 8GB RAM, 128GB Storage) | India's First SD 768G 5G Processor | 55W FlashCharge | Upto 6 Months No Cost EMI | Extra Rs.2000 Off on Exchange\",\n",
       " \"itel A47 (Cosmic Purple, 2GB RAM, 32GB Storage, 5.5'' HD+ IPS Display), L5505\",\n",
       " 'Tecno Spark 7 (Spruce Green, 2GB RAM, 32 GB Storage) - 6000mAh Battery|16 MP Dual Camera| 6.52” Dot Notch Display',\n",
       " 'Samsung Galaxy M32 (Light Blue, 6GB RAM, 128GB Storage) 6 Months Free Screen Replacement for Prime',\n",
       " 'LG W41 Pro Laser Blue, 6GB Ram, 128GB Storage (48MP AI Quad Camera)',\n",
       " 'Gionee F8 Neo (Red) 2GB Ram 32GB ROM, Face Unlock,Smart Gestures, Full View Display',\n",
       " 'I KALL K320 Smartphone (6.53 HD+, 4GB, 64GB) (Blue)',\n",
       " 'Tecno Spark 7 (Magnet Black, 2GB RAM, 32 GB Storage) - 6000mAh Battery|16 MP Dual Camera| 6.52” Dot Notch Display',\n",
       " 'OnePlus Nord CE 5G (Silver Ray, 12GB RAM, 256GB Storage)',\n",
       " 'Tecno Spark Go 2021 (Galaxy Blue 2GB RAM, 32GB Storage)|5000mAh| 6.52\" Display Smartphone',\n",
       " 'Redmi 9 Power (Mighty Black 4GB RAM 64GB Storage) - 6000mAh Battery |FHD+ Screen | 48MP Quad Camera | Alexa Hands-Free Capable',\n",
       " 'Gionee F11 Blue (3GB Ram 32GB ROM) 5000mAh Battery, Dual Camera',\n",
       " 'OPPO A74 5G (Fluid Black,6GB RAM,128GB Storage) Android Smartphone,5000 mAh battery,18W Fast Charge,90Hz LCD Display',\n",
       " 'Tecno Spark 7T(Magnet Black, 4GB RAM,64GB Storage) 6000 mAh Battery| 48 MP AI Dual Rear Camera',\n",
       " 'OnePlus 9 5G (Astral Black, 8GB RAM, 128GB Storage)',\n",
       " 'Tecno Spark 7 Pro (Magnet Black 6GB RAM 64GB Storage)',\n",
       " 'Oppo A31 (Mystery Black, 6GB RAM, 128GB Storage) with No Cost EMI/Additional Exchange Offers',\n",
       " 'Redmi 9 (Sporty Orange, 4GB RAM, 64GB Storage) | 5000 mAh| 2.3GHz Mediatek Helio G35 Octa core Processor',\n",
       " 'Panasonic Eluga I6 (Black, 2GB Ram, 16GB Storage) - 3 Month No Cost EMI',\n",
       " 'Oppo A31 (Fantasy White, 6GB RAM, 128GB Storage) with No Cost EMI/Additional Exchange Offers',\n",
       " 'Samsung Galaxy M31 (Ocean Blue, 8GB RAM, 128GB Storage) 6 Months Free Screen Replacement for Prime',\n",
       " 'Redmi 9A (Sea Blue 2GB RAM 32GB Storage) | 2GHz Octa-core Helio G25 Processor | 5000 mAh Battery',\n",
       " 'Redmi 9 Power (Mighty Black, 6GB RAM, 128GB Storage) - 6000mAh Battery |FHD+ Screen| 48MP Quad Camera | Snapdragon 662 Processor | Alexa Hands-Free Capable',\n",
       " \"itel A23 Pro Jio (Lake Blue, 1GB RAM, 8 GB Storage, 5'' Bright Display) (L5006C)\",\n",
       " 'OPPO A74 5G (Fantastic Purple, 6GB RAM, 128GB Storage)| 5000 mAh | 18W Fast Charge | 90Hz Super Amoled Display',\n",
       " 'Oppo A31 (Mystery Black, 6GB RAM, 128GB Storage) with No Cost EMI/Additional Exchange Offers',\n",
       " 'OnePlus Nord CE 5G (Blue Void, 12GB RAM, 256GB Storage)',\n",
       " 'Gionee F11 Black (3GB Ram 32GB ROM) 5000mAh Battery, Dual Camera',\n",
       " 'Panasonic Eluga I8 (Black, 3GB RAM, 32GB Storage)',\n",
       " 'Redmi Note 9 (Pebble Grey, 4GB RAM 64GB Storage) - 48MP Quad Camera & Full HD+ Display',\n",
       " 'Tecno Spark Go 2021 (Maldives Blue, 2GB RAM, 32GB Storage) | 5000mAh| 6.52\" Display Smartphone',\n",
       " 'Samsung Galaxy M51 (Electric Blue, 6GB RAM, 128GB Storage) 6 Months Free Screen Replacement for Prime',\n",
       " 'Tecno Spark 7T(Magnet Black, 4GB RAM,64GB Storage) 6000 mAh Battery| 48 MP AI Dual Rear Camera',\n",
       " 'Samsung Galaxy M02s (Blue,4GB RAM, 64GB Storage) | 5000 mAh | Triple Camera',\n",
       " 'Tecno Spark 7T(Jewel Blue, 4GB RAM, 64GB Storage) 6000 mAh Battery| 48 MP AI Dual Rear Camera, 6.52 Handy Size',\n",
       " 'Samsung Galaxy M32 (Light Blue, 4GB RAM, 64GB Storage) 6 Months Free Screen Replacement for Prime']"
      ]
     },
     "execution_count": 11,
     "metadata": {},
     "output_type": "execute_result"
    }
   ],
   "source": [
    "# Loading all the title avialable on the webpage\n",
    "titles = []\n",
    "for i in page_url :\n",
    "    driver.get(i)\n",
    "    title_tags = driver.find_elements_by_xpath('//h2[@class = \"a-size-mini a-spacing-none a-color-base s-line-clamp-2\"]')\n",
    "    for i in title_tags :\n",
    "        titles.append(i.text)\n",
    "titles"
   ]
  },
  {
   "cell_type": "code",
   "execution_count": 12,
   "metadata": {},
   "outputs": [
    {
     "data": {
      "text/plain": [
       "['https://www.amazon.in/gp/slredirect/picassoRedirect.html/ref=pa_sp_atf_next_aps_sr_pg2_1?ie=UTF8&adId=A10250141E5BSP8EOEV1M&url=%2FTest-Exclusive_2020_1174-Multi-3GB-Storage%2Fdp%2FB089MT34QG%2Fref%3Dsr_1_17_sspa%3Fdchild%3D1%26keywords%3Dmobile%26qid%3D1626807586%26sr%3D8-17-spons%26psc%3D1&qualifier=1626807586&id=6700831888206643&widgetName=sp_atf_next',\n",
       " 'https://www.amazon.in/gp/slredirect/picassoRedirect.html/ref=pa_sp_atf_next_aps_sr_pg2_1?ie=UTF8&adId=A07357321BKQ6HKVZ62AY&url=%2FTecno-Spark-Magnet-Black-Storage%2Fdp%2FB095H6NLB4%2Fref%3Dsr_1_18_sspa%3Fdchild%3D1%26keywords%3Dmobile%26qid%3D1626807586%26sr%3D8-18-spons%26psc%3D1&qualifier=1626807586&id=6700831888206643&widgetName=sp_atf_next',\n",
       " 'https://www.amazon.in/Oppo-Mystery-Storage-Additional-Exchange/dp/B08444S68L/ref=sr_1_19?dchild=1&keywords=mobile&qid=1626807586&sr=8-19',\n",
       " 'https://www.amazon.in/Redmi-Sporty-Orange-64GB-Storage/dp/B08696W3B3/ref=sr_1_20?dchild=1&keywords=mobile&qid=1626807586&sr=8-20',\n",
       " 'https://www.amazon.in/Panasonic-Eluga-Black-16GB-Storage/dp/B085W2YQ1F/ref=sr_1_21?dchild=1&keywords=mobile&qid=1626807586&sr=8-21',\n",
       " 'https://www.amazon.in/Oppo-Fantasy-Storage-Additional-Exchange/dp/B08444SXZ6/ref=sr_1_22?dchild=1&keywords=mobile&qid=1626807586&sr=8-22',\n",
       " 'https://www.amazon.in/Samsung-Galaxy-Ocean-128GB-Storage/dp/B07HG8S7KP/ref=sr_1_23?dchild=1&keywords=mobile&qid=1626807586&sr=8-23',\n",
       " 'https://www.amazon.in/Redmi-9A-2GB-32GB-Storage/dp/B086978F2L/ref=sr_1_24?dchild=1&keywords=mobile&qid=1626807586&sr=8-24',\n",
       " 'https://www.amazon.in/Test-Exclusive_2020_1138-Multi-3GB-Storage/dp/B089MTR9JW/ref=sr_1_25?dchild=1&keywords=mobile&qid=1626807586&sr=8-25',\n",
       " 'https://www.amazon.in/itel-Storage-Bright-Display-L5006C/dp/B08T7G9HFM/ref=sr_1_26?dchild=1&keywords=mobile&qid=1626807586&sr=8-26',\n",
       " 'https://www.amazon.in/gp/slredirect/picassoRedirect.html/ref=pa_sp_mtf_aps_sr_pg2_1?ie=UTF8&adId=A03203451PJS51LCV5CR0&url=%2FFantastic-Purple-Storage-Charge-Display%2Fdp%2FB08VB34KJ1%2Fref%3Dsr_1_27_sspa%3Fdchild%3D1%26keywords%3Dmobile%26qid%3D1626807586%26sr%3D8-27-spons%26psc%3D1&qualifier=1626807586&id=6700831888206643&widgetName=sp_mtf',\n",
       " 'https://www.amazon.in/gp/slredirect/picassoRedirect.html/ref=pa_sp_mtf_aps_sr_pg2_1?ie=UTF8&adId=A0679328GVLK4Q8UB1NF&url=%2FOppo-Mystery-Storage-Additional-Exchange%2Fdp%2FB08444S68L%2Fref%3Dsr_1_28_sspa%3Fdchild%3D1%26keywords%3Dmobile%26qid%3D1626807586%26sr%3D8-28-spons%26psc%3D1&qualifier=1626807586&id=6700831888206643&widgetName=sp_mtf',\n",
       " 'https://www.amazon.in/OnePlus-Nord-Blue-256GB-Storage/dp/B09579HCKZ/ref=sr_1_29?dchild=1&keywords=mobile&qid=1626807586&sr=8-29',\n",
       " 'https://www.amazon.in/Gionee-F11-5000mAh-Battery-Camera/dp/B08VGQXXB1/ref=sr_1_30?dchild=1&keywords=mobile&qid=1626807586&sr=8-30',\n",
       " 'https://www.amazon.in/Panasonic-Eluga-I8-Black-Storage/dp/B085W2P4WV/ref=sr_1_31?dchild=1&keywords=mobile&qid=1626807586&sr=8-31',\n",
       " 'https://www.amazon.in/Redmi-Note-Pebble-Grey-Storage/dp/B086977TR6/ref=sr_1_32?dchild=1&keywords=mobile&qid=1626807586&sr=8-32',\n",
       " 'https://www.amazon.in/Tecno-Spark-Go-2021-32GB/dp/B097T59Q4S/ref=sr_1_33?dchild=1&keywords=mobile&qid=1626807586&sr=8-33',\n",
       " 'https://www.amazon.in/Samsung-Galaxy-Electric-Blue-128GB-Storage/dp/B085J1J32G/ref=sr_1_34?dchild=1&keywords=mobile&qid=1626807586&sr=8-34',\n",
       " 'https://www.amazon.in/Tecno-Magnet-Storage-Battery-Camera/dp/B096LRGL64/ref=sr_1_35?dchild=1&keywords=mobile&qid=1626807586&sr=8-35',\n",
       " 'https://www.amazon.in/Samsung-Galaxy-Storage-Triple-Camera/dp/B08RSY2653/ref=sr_1_36?dchild=1&keywords=mobile&qid=1626807586&sr=8-36',\n",
       " 'https://www.amazon.in/gp/slredirect/picassoRedirect.html/ref=pa_sp_btf_aps_sr_pg2_1?ie=UTF8&adId=A03004261PZSSAJ9KRAK0&url=%2FTecno-Spark-Storage-Battery-Camera%2Fdp%2FB096LS7N6Z%2Fref%3Dsr_1_37_sspa%3Fdchild%3D1%26keywords%3Dmobile%26qid%3D1626807586%26sr%3D8-37-spons%26psc%3D1&qualifier=1626807586&id=6700831888206643&widgetName=sp_btf',\n",
       " 'https://www.amazon.in/gp/slredirect/picassoRedirect.html/ref=pa_sp_btf_aps_sr_pg2_1?ie=UTF8&adId=A02820863P9GS82KV4IGU&url=%2FSamsung-Galaxy-Storage-Months-Replacement%2Fdp%2FB096VD213D%2Fref%3Dsr_1_38_sspa%3Fdchild%3D1%26keywords%3Dmobile%26qid%3D1626807586%26sr%3D8-38-spons%26psc%3D1&qualifier=1626807586&id=6700831888206643&widgetName=sp_btf']"
      ]
     },
     "execution_count": 12,
     "metadata": {},
     "output_type": "execute_result"
    }
   ],
   "source": [
    "# Fetching the url of each available search item on the webpage\n",
    "\n",
    "detailed_urls = []\n",
    "\n",
    "url1 = driver.find_elements_by_xpath('//a[@class = \"a-link-normal a-text-normal\"]')\n",
    "for i in url1 :\n",
    "    detailed_urls.append(i.get_attribute('href'))\n",
    "detailed_urls"
   ]
  },
  {
   "cell_type": "code",
   "execution_count": 14,
   "metadata": {},
   "outputs": [
    {
     "data": {
      "text/plain": [
       "['OnePlus 9 5G (Astral Black, 8GB RAM, 128GB Storage)',\n",
       " 'Tecno Spark 7 Pro (Magnet Black 6GB RAM 64GB Storage)',\n",
       " 'Oppo A31 (Mystery Black, 6GB RAM, 128GB Storage) with No Cost EMI/Additional Exchange Offers',\n",
       " 'Redmi 9 (Sporty Orange, 4GB RAM, 64GB Storage) | 5000 mAh| 2.3GHz Mediatek Helio G35 Octa core Processor',\n",
       " 'Panasonic Eluga I6 (Black, 2GB Ram, 16GB Storage) - 3 Month No Cost EMI',\n",
       " 'Oppo A31 (Fantasy White, 6GB RAM, 128GB Storage) with No Cost EMI/Additional Exchange Offers',\n",
       " 'Samsung Galaxy M31 (Ocean Blue, 8GB RAM, 128GB Storage) 6 Months Free Screen Replacement for Prime',\n",
       " 'Redmi 9A (Sea Blue 2GB RAM 32GB Storage) | 2GHz Octa-core Helio G25 Processor | 5000 mAh Battery',\n",
       " 'Redmi 9 Power (Mighty Black, 6GB RAM, 128GB Storage) - 6000mAh Battery |FHD+ Screen| 48MP Quad Camera | Snapdragon 662 Processor | Alexa Hands-Free Capable',\n",
       " \"itel A23 Pro Jio (Lake Blue, 1GB RAM, 8 GB Storage, 5'' Bright Display) (L5006C)\",\n",
       " 'OPPO A74 5G (Fantastic Purple, 6GB RAM, 128GB Storage)| 5000 mAh | 18W Fast Charge | 90Hz Super Amoled Display',\n",
       " 'Oppo A31 (Mystery Black, 6GB RAM, 128GB Storage) with No Cost EMI/Additional Exchange Offers',\n",
       " 'OnePlus Nord CE 5G (Blue Void, 12GB RAM, 256GB Storage)',\n",
       " 'Gionee F11 Black (3GB Ram 32GB ROM) 5000mAh Battery, Dual Camera',\n",
       " 'Panasonic Eluga I8 (Black, 3GB RAM, 32GB Storage)',\n",
       " 'Redmi Note 9 (Pebble Grey, 4GB RAM 64GB Storage) - 48MP Quad Camera & Full HD+ Display',\n",
       " 'Tecno Spark Go 2021 (Maldives Blue, 2GB RAM, 32GB Storage) | 5000mAh| 6.52\" Display Smartphone',\n",
       " 'Samsung Galaxy M51 (Electric Blue, 6GB RAM, 128GB Storage) 6 Months Free Screen Replacement for Prime',\n",
       " 'Tecno Spark 7T(Magnet Black, 4GB RAM,64GB Storage) 6000 mAh Battery| 48 MP AI Dual Rear Camera',\n",
       " 'Samsung Galaxy M02s (Blue,4GB RAM, 64GB Storage) | 5000 mAh | Triple Camera',\n",
       " 'Tecno Spark 7T(Jewel Blue, 4GB RAM, 64GB Storage) 6000 mAh Battery| 48 MP AI Dual Rear Camera, 6.52 Handy Size',\n",
       " 'Samsung Galaxy M32 (Light Blue, 4GB RAM, 64GB Storage) 6 Months Free Screen Replacement for Prime']"
      ]
     },
     "execution_count": 14,
     "metadata": {},
     "output_type": "execute_result"
    }
   ],
   "source": [
    "search_title = []\n",
    "\n",
    "for i in detailed_urls :\n",
    "    driver.get(i)\n",
    "    title = driver.find_element_by_xpath('//span[@class = \"a-size-large product-title-word-break\"]')\n",
    "    search_title.append(title.text)\n",
    "search_title"
   ]
  },
  {
   "cell_type": "code",
   "execution_count": 19,
   "metadata": {},
   "outputs": [
    {
     "data": {
      "text/plain": [
       "[]"
      ]
     },
     "execution_count": 19,
     "metadata": {},
     "output_type": "execute_result"
    }
   ],
   "source": [
    "Brand_name = []\n",
    "\n",
    "for i in detailed_urls :\n",
    "    driver.get(i)\n",
    "    try :\n",
    "        name = driver.find_element_by_xpath('//span[@class = \"a-link-normal\"]')\n",
    "        Brand_name.append(name.text)\n",
    "    except :\n",
    "        pass\n",
    "Brand_name"
   ]
  },
  {
   "cell_type": "markdown",
   "metadata": {},
   "source": [
    "### Write a program to extract at least 500 Comments, Comment upvote and time when comment was posted from any YouTube Video"
   ]
  },
  {
   "cell_type": "code",
   "execution_count": 33,
   "metadata": {},
   "outputs": [],
   "source": [
    "# Importing the required webpage\n",
    "\n",
    "url1 = \"https://www.youtube.com/watch?v=aF7nu3R6qfg\"\n",
    "driver.get(url1)\n",
    "time.sleep(5)"
   ]
  },
  {
   "cell_type": "code",
   "execution_count": 36,
   "metadata": {},
   "outputs": [
    {
     "name": "stdout",
     "output_type": "stream",
     "text": [
      "['hey. Get the guy who got the count 50000 instantly a better job. He deserves something better than pirate with the math.', \"When you can't see luffy's eyes\", 'The three Luffy buttons you should never touch..\\n\\n1. Never touch his hat\\n2. Never hurt his nakama', \"In case Luffy couldn't make it, Usopp could easily call his 14,000 men\", \"Things not say to Luffy's face \\n\\nNo 1: I will become the pirate king.\", \"Damn it gives me chills when luffy's crew respect him as a captain.\", '10 person-crew at this point basically means that Luffy goes for quality over quantity', 'Luffy: I am....inevitable', 'This is the Haki sound effect we needed in wano', 'I cant believe this was 7 years ago. It feels like it was last year. One piece is gold.', 'And he didn’t even have to snap.', 'At that moment, Hordy know he f*cked up', 'Dragon ball: we yell to win our fights... \\n\\nOne piece: we just look...', \"Love what Zoro says after Luffy uses haki, if he wasn't capable of at least that then he would need to step down.\", 'Lesson: Dont say “Im gonna be the king of pirates!” in front of luffy.', 'A taboo to say infront of luffy. \\nSecond most favorite scene in OP.\\nFirst is Zoro saying \"Nothing happened!\"', \"Man I was such a One Piece addict back in those days, didnt even notice how horrible the animation was back then compared to Wano's one now.\\nJust look at Nami at 0:13\", 'Hordy:  I have an army.\\n\\nStrawhats : We have a Luffy.', 'Straw Hat I will be the one who becomes King of the Pirates! Hello my name is Hordy welcome to Jackass', 'The music after luffy used conquerer haki, is priceless']\n"
     ]
    }
   ],
   "source": [
    "# importing the video comment from the selected video on youtube\n",
    "\n",
    "comment = driver.find_elements_by_xpath('//*[@id = \"content-text\"]')\n",
    "comment_list = [i.text for i in comment]\n",
    "print(comment_list)"
   ]
  },
  {
   "cell_type": "code",
   "execution_count": 63,
   "metadata": {},
   "outputs": [
    {
     "data": {
      "text/plain": [
       "['',\n",
       " '5.1K',\n",
       " '',\n",
       " '4.1K',\n",
       " '',\n",
       " '2.2K',\n",
       " '',\n",
       " '246',\n",
       " '',\n",
       " '3.8K',\n",
       " '',\n",
       " '5.2K',\n",
       " '',\n",
       " '581',\n",
       " '',\n",
       " '2K',\n",
       " '',\n",
       " '612',\n",
       " '',\n",
       " '738',\n",
       " '',\n",
       " '4.9K',\n",
       " '',\n",
       " '11',\n",
       " '',\n",
       " '62',\n",
       " '',\n",
       " '337',\n",
       " '',\n",
       " '741',\n",
       " '',\n",
       " '694',\n",
       " '',\n",
       " '32',\n",
       " '',\n",
       " '154',\n",
       " '',\n",
       " '711',\n",
       " '',\n",
       " '155']"
      ]
     },
     "execution_count": 63,
     "metadata": {},
     "output_type": "execute_result"
    }
   ],
   "source": [
    "# Extracting the upvotes for each comments\n",
    "\n",
    "comment_upvote_list = []\n",
    "comment_upvote = driver.find_elements_by_xpath('//span[@class = \"style-scope ytd-comment-action-buttons-renderer\"]')\n",
    "for i in comment_upvote :\n",
    "    comment_upvote_list.append(i.text)\n",
    "\n",
    "comment_upvote_list"
   ]
  },
  {
   "cell_type": "code",
   "execution_count": 59,
   "metadata": {},
   "outputs": [
    {
     "data": {
      "text/plain": [
       "['Bombalega6001',\n",
       " 'year',\n",
       " 'ago2',\n",
       " 'years',\n",
       " 'ago',\n",
       " '(edited)1',\n",
       " 'year',\n",
       " 'ago4',\n",
       " 'months',\n",
       " 'ago2',\n",
       " 'years',\n",
       " 'ago2',\n",
       " 'years',\n",
       " 'ago1',\n",
       " 'year',\n",
       " 'ago2',\n",
       " 'years',\n",
       " 'ago1',\n",
       " 'year',\n",
       " 'ago2',\n",
       " 'years',\n",
       " 'ago2',\n",
       " 'years',\n",
       " 'ago1',\n",
       " 'month',\n",
       " 'ago1',\n",
       " 'year',\n",
       " 'ago',\n",
       " '(edited)2',\n",
       " 'years',\n",
       " 'ago2',\n",
       " 'years',\n",
       " 'ago2',\n",
       " 'years',\n",
       " 'ago4',\n",
       " 'months',\n",
       " 'ago',\n",
       " '(edited)0:131',\n",
       " 'year',\n",
       " 'ago7',\n",
       " 'years',\n",
       " 'ago1',\n",
       " 'year',\n",
       " 'ago']"
      ]
     },
     "execution_count": 59,
     "metadata": {},
     "output_type": "execute_result"
    }
   ],
   "source": [
    "# extracting the time of comment posted\n",
    "\n",
    "comment_time_list = []\n",
    "comment_time = driver.find_elements_by_xpath('//a[@class = \"yt-simple-endpoint style-scope yt-formatted-string\"]')\n",
    "for i in comment_time :\n",
    "    comment_time_list.append(i.text)\n",
    "    \n",
    "comment_time_list = ''.join(comment_time_list).split()\n",
    "comment_time_list"
   ]
  },
  {
   "cell_type": "code",
   "execution_count": 60,
   "metadata": {},
   "outputs": [],
   "source": [
    "data = list(zip(comment_list, comment_upvote_list, comment_time_list))"
   ]
  },
  {
   "cell_type": "code",
   "execution_count": 61,
   "metadata": {},
   "outputs": [
    {
     "data": {
      "text/html": [
       "<div>\n",
       "<style scoped>\n",
       "    .dataframe tbody tr th:only-of-type {\n",
       "        vertical-align: middle;\n",
       "    }\n",
       "\n",
       "    .dataframe tbody tr th {\n",
       "        vertical-align: top;\n",
       "    }\n",
       "\n",
       "    .dataframe thead th {\n",
       "        text-align: right;\n",
       "    }\n",
       "</style>\n",
       "<table border=\"1\" class=\"dataframe\">\n",
       "  <thead>\n",
       "    <tr style=\"text-align: right;\">\n",
       "      <th></th>\n",
       "      <th>Comments</th>\n",
       "      <th>Upvote</th>\n",
       "      <th>Time of Comment</th>\n",
       "    </tr>\n",
       "  </thead>\n",
       "  <tbody>\n",
       "    <tr>\n",
       "      <th>0</th>\n",
       "      <td>hey. Get the guy who got the count 50000 insta...</td>\n",
       "      <td></td>\n",
       "      <td>Bombalega6001</td>\n",
       "    </tr>\n",
       "    <tr>\n",
       "      <th>1</th>\n",
       "      <td>When you can't see luffy's eyes</td>\n",
       "      <td>5.1K</td>\n",
       "      <td>year</td>\n",
       "    </tr>\n",
       "    <tr>\n",
       "      <th>2</th>\n",
       "      <td>The three Luffy buttons you should never touch...</td>\n",
       "      <td></td>\n",
       "      <td>ago2</td>\n",
       "    </tr>\n",
       "    <tr>\n",
       "      <th>3</th>\n",
       "      <td>In case Luffy couldn't make it, Usopp could ea...</td>\n",
       "      <td>4.1K</td>\n",
       "      <td>years</td>\n",
       "    </tr>\n",
       "    <tr>\n",
       "      <th>4</th>\n",
       "      <td>Things not say to Luffy's face \\n\\nNo 1: I wil...</td>\n",
       "      <td></td>\n",
       "      <td>ago</td>\n",
       "    </tr>\n",
       "    <tr>\n",
       "      <th>5</th>\n",
       "      <td>Damn it gives me chills when luffy's crew resp...</td>\n",
       "      <td>2.2K</td>\n",
       "      <td>(edited)1</td>\n",
       "    </tr>\n",
       "    <tr>\n",
       "      <th>6</th>\n",
       "      <td>10 person-crew at this point basically means t...</td>\n",
       "      <td></td>\n",
       "      <td>year</td>\n",
       "    </tr>\n",
       "    <tr>\n",
       "      <th>7</th>\n",
       "      <td>Luffy: I am....inevitable</td>\n",
       "      <td>246</td>\n",
       "      <td>ago4</td>\n",
       "    </tr>\n",
       "    <tr>\n",
       "      <th>8</th>\n",
       "      <td>This is the Haki sound effect we needed in wano</td>\n",
       "      <td></td>\n",
       "      <td>months</td>\n",
       "    </tr>\n",
       "    <tr>\n",
       "      <th>9</th>\n",
       "      <td>I cant believe this was 7 years ago. It feels ...</td>\n",
       "      <td>3.8K</td>\n",
       "      <td>ago2</td>\n",
       "    </tr>\n",
       "    <tr>\n",
       "      <th>10</th>\n",
       "      <td>And he didn’t even have to snap.</td>\n",
       "      <td></td>\n",
       "      <td>years</td>\n",
       "    </tr>\n",
       "    <tr>\n",
       "      <th>11</th>\n",
       "      <td>At that moment, Hordy know he f*cked up</td>\n",
       "      <td>5.2K</td>\n",
       "      <td>ago2</td>\n",
       "    </tr>\n",
       "    <tr>\n",
       "      <th>12</th>\n",
       "      <td>Dragon ball: we yell to win our fights... \\n\\n...</td>\n",
       "      <td></td>\n",
       "      <td>years</td>\n",
       "    </tr>\n",
       "    <tr>\n",
       "      <th>13</th>\n",
       "      <td>Love what Zoro says after Luffy uses haki, if ...</td>\n",
       "      <td>581</td>\n",
       "      <td>ago1</td>\n",
       "    </tr>\n",
       "    <tr>\n",
       "      <th>14</th>\n",
       "      <td>Lesson: Dont say “Im gonna be the king of pira...</td>\n",
       "      <td></td>\n",
       "      <td>year</td>\n",
       "    </tr>\n",
       "    <tr>\n",
       "      <th>15</th>\n",
       "      <td>A taboo to say infront of luffy. \\nSecond most...</td>\n",
       "      <td>2K</td>\n",
       "      <td>ago2</td>\n",
       "    </tr>\n",
       "    <tr>\n",
       "      <th>16</th>\n",
       "      <td>Man I was such a One Piece addict back in thos...</td>\n",
       "      <td></td>\n",
       "      <td>years</td>\n",
       "    </tr>\n",
       "    <tr>\n",
       "      <th>17</th>\n",
       "      <td>Hordy:  I have an army.\\n\\nStrawhats : We have...</td>\n",
       "      <td>612</td>\n",
       "      <td>ago1</td>\n",
       "    </tr>\n",
       "    <tr>\n",
       "      <th>18</th>\n",
       "      <td>Straw Hat I will be the one who becomes King o...</td>\n",
       "      <td></td>\n",
       "      <td>year</td>\n",
       "    </tr>\n",
       "    <tr>\n",
       "      <th>19</th>\n",
       "      <td>The music after luffy used conquerer haki, is ...</td>\n",
       "      <td>738</td>\n",
       "      <td>ago2</td>\n",
       "    </tr>\n",
       "  </tbody>\n",
       "</table>\n",
       "</div>"
      ],
      "text/plain": [
       "                                             Comments Upvote Time of Comment\n",
       "0   hey. Get the guy who got the count 50000 insta...          Bombalega6001\n",
       "1                     When you can't see luffy's eyes   5.1K            year\n",
       "2   The three Luffy buttons you should never touch...                   ago2\n",
       "3   In case Luffy couldn't make it, Usopp could ea...   4.1K           years\n",
       "4   Things not say to Luffy's face \\n\\nNo 1: I wil...                    ago\n",
       "5   Damn it gives me chills when luffy's crew resp...   2.2K       (edited)1\n",
       "6   10 person-crew at this point basically means t...                   year\n",
       "7                           Luffy: I am....inevitable    246            ago4\n",
       "8     This is the Haki sound effect we needed in wano                 months\n",
       "9   I cant believe this was 7 years ago. It feels ...   3.8K            ago2\n",
       "10                   And he didn’t even have to snap.                  years\n",
       "11            At that moment, Hordy know he f*cked up   5.2K            ago2\n",
       "12  Dragon ball: we yell to win our fights... \\n\\n...                  years\n",
       "13  Love what Zoro says after Luffy uses haki, if ...    581            ago1\n",
       "14  Lesson: Dont say “Im gonna be the king of pira...                   year\n",
       "15  A taboo to say infront of luffy. \\nSecond most...     2K            ago2\n",
       "16  Man I was such a One Piece addict back in thos...                  years\n",
       "17  Hordy:  I have an army.\\n\\nStrawhats : We have...    612            ago1\n",
       "18  Straw Hat I will be the one who becomes King o...                   year\n",
       "19  The music after luffy used conquerer haki, is ...    738            ago2"
      ]
     },
     "execution_count": 61,
     "metadata": {},
     "output_type": "execute_result"
    }
   ],
   "source": [
    "# Merging all the avialable data in dataframe\n",
    "\n",
    "df = pd.DataFrame(data, columns=['Comments', 'Upvote', 'Time of Comment'])\n",
    "df"
   ]
  },
  {
   "cell_type": "markdown",
   "metadata": {},
   "source": [
    "### Write a python program to scrape a data for all available Hostels from https://www.hostelworld.com/ in “London” location. You have to scrape hostel name, distance from city centre, ratings, total reviews, overall reviews, privates from price, dorms from price, facilities and property description."
   ]
  },
  {
   "cell_type": "code",
   "execution_count": 84,
   "metadata": {},
   "outputs": [],
   "source": [
    "# Importing the necessary url of Hostel world\n",
    "\n",
    "url2 = \"https://www.hostelworld.com/s?q=London,%20England&country=England&city=London&type=city&id=3&from=2021-07-26&to=2021-07-29&guests=2&page=1\"\n",
    "driver.get(url2)\n",
    "time.sleep(7)"
   ]
  },
  {
   "cell_type": "code",
   "execution_count": 86,
   "metadata": {},
   "outputs": [
    {
     "data": {
      "text/plain": [
       "[None]"
      ]
     },
     "execution_count": 86,
     "metadata": {},
     "output_type": "execute_result"
    }
   ],
   "source": [
    "page_url2 = []\n",
    "next_page = driver.find_elements_by_xpath(\"//i[@class = 'core-icon icon-core-chevron-right']\")\n",
    "for i in next_page :\n",
    "    if i == 100 :\n",
    "        break\n",
    "    page_url2.append(i.click())\n",
    "page_url2"
   ]
  },
  {
   "cell_type": "code",
   "execution_count": 88,
   "metadata": {},
   "outputs": [
    {
     "data": {
      "text/plain": [
       "['Safestay London Elephant & Castle',\n",
       " 'International Students House',\n",
       " 'Astor Museum Inn',\n",
       " 'Park Villa',\n",
       " 'Mapesbury Hostel',\n",
       " '247london Hostel and Private Rooms',\n",
       " 'Mornington Camden',\n",
       " 'Burlington Residence',\n",
       " 'Saint James Backpackers',\n",
       " 'The London Home Hostel',\n",
       " 'Atlas Hostels',\n",
       " 'Kensal Green Backpackers',\n",
       " 'Prime Backpackers Angel',\n",
       " 'Jaeger Acton Hostel',\n",
       " 'Abercorn House',\n",
       " 'The Backpackshack',\n",
       " 'Best London Hostels',\n",
       " 'Safestay London Kensington Holland Park',\n",
       " 'Selina Camden',\n",
       " 'The Dictionary Hostel',\n",
       " 'Venture Hostel',\n",
       " 'Urbany Hostel London',\n",
       " 'YHA London St Pancras',\n",
       " 'Chester Hotel Victoria',\n",
       " 'Kip Hotel',\n",
       " 'Victor Hotel',\n",
       " 'Belgravia Hotel',\n",
       " 'Marble Arch Inn',\n",
       " 'Colliers Hotel',\n",
       " 'City Space']"
      ]
     },
     "execution_count": 88,
     "metadata": {},
     "output_type": "execute_result"
    }
   ],
   "source": [
    "# Extracting the various avialable hostel name\n",
    "\n",
    "hostel_names = []\n",
    "hostel_name = driver.find_elements_by_xpath('//h2[@class = \"title title-6\"]//a')\n",
    "for i in hostel_name :\n",
    "    hostel_names.append(i.text)\n",
    "\n",
    "hostel_names"
   ]
  },
  {
   "cell_type": "code",
   "execution_count": 104,
   "metadata": {},
   "outputs": [
    {
     "data": {
      "text/plain": [
       "['1.7km ',\n",
       " '3.3km ',\n",
       " '2.2km ',\n",
       " '6.3km ',\n",
       " '8.2km ',\n",
       " '8.2km ',\n",
       " '4.1km ',\n",
       " '7.1km ',\n",
       " '5.5km ',\n",
       " '3.6km ',\n",
       " '4.3km ',\n",
       " '8.2km ',\n",
       " '3.6km ',\n",
       " '10.4km',\n",
       " '7.3km ',\n",
       " '10.9km',\n",
       " '8.2km ',\n",
       " '5.9km ',\n",
       " '5.5km ',\n",
       " '4.1km ',\n",
       " '6.9km ',\n",
       " '5.4km ',\n",
       " '3.3km ',\n",
       " '.9km f',\n",
       " '.8km f',\n",
       " '.8km f',\n",
       " '.4km f',\n",
       " '.5km f',\n",
       " '.1km f',\n",
       " '.9km f']"
      ]
     },
     "execution_count": 104,
     "metadata": {},
     "output_type": "execute_result"
    }
   ],
   "source": [
    "# Extracting the hostel distance from the city centre\n",
    "\n",
    "dist_from_city_center = []\n",
    "dist_from_city = driver.find_elements_by_xpath('//span[@class = \"description\"]')\n",
    "for i in dist_from_city :\n",
    "    dist_from_city_center.append(i.text[9:15])\n",
    "\n",
    "dist_from_city_center"
   ]
  },
  {
   "cell_type": "code",
   "execution_count": 92,
   "metadata": {},
   "outputs": [
    {
     "data": {
      "text/plain": [
       "['8.1',\n",
       " '8.5',\n",
       " '9.5',\n",
       " '9.4',\n",
       " '9.7',\n",
       " '7.7',\n",
       " '7.7',\n",
       " '6.7',\n",
       " '10',\n",
       " '9.4',\n",
       " '7.3',\n",
       " '9.1',\n",
       " '9.8',\n",
       " '9.1',\n",
       " '10',\n",
       " '9.5',\n",
       " '6.6',\n",
       " '8.8',\n",
       " '8.7',\n",
       " '7.7']"
      ]
     },
     "execution_count": 92,
     "metadata": {},
     "output_type": "execute_result"
    }
   ],
   "source": [
    "# extracting the overall rating of respective hostel\n",
    "\n",
    "ratings = []\n",
    "rating = driver.find_elements_by_xpath('//div[@class = \"score orange big\"]')\n",
    "for i in rating :\n",
    "    ratings.append(i.text)\n",
    "\n",
    "ratings"
   ]
  },
  {
   "cell_type": "code",
   "execution_count": 93,
   "metadata": {},
   "outputs": [
    {
     "data": {
      "text/plain": [
       "['Fabulous',\n",
       " 'Fabulous',\n",
       " 'Superb',\n",
       " 'Superb',\n",
       " 'Rating',\n",
       " 'No Rating',\n",
       " 'No Rating',\n",
       " 'Superb',\n",
       " 'Very Good',\n",
       " 'Very Good',\n",
       " 'Rating',\n",
       " 'Good',\n",
       " 'Superb',\n",
       " 'Superb',\n",
       " 'Very Good',\n",
       " 'Superb',\n",
       " 'No Rating',\n",
       " 'Superb',\n",
       " 'Superb',\n",
       " 'NEW',\n",
       " 'Rating',\n",
       " 'Superb',\n",
       " 'Superb',\n",
       " 'Good',\n",
       " 'Fabulous',\n",
       " 'No Rating',\n",
       " 'Fabulous',\n",
       " 'No Rating',\n",
       " 'Very Good',\n",
       " 'No Rating']"
      ]
     },
     "execution_count": 93,
     "metadata": {},
     "output_type": "execute_result"
    }
   ],
   "source": [
    "# Extracting the overall review of hostels\n",
    "\n",
    "overall_review = []\n",
    "overall_r = driver.find_elements_by_xpath('//div[@class = \"keyword\"]//span')\n",
    "for i in overall_r :\n",
    "    overall_review.append(i.text)\n",
    "\n",
    "overall_review"
   ]
  },
  {
   "cell_type": "code",
   "execution_count": 99,
   "metadata": {},
   "outputs": [
    {
     "data": {
      "text/plain": [
       "['3947 Total Reviews',\n",
       " '918 Total Reviews',\n",
       " '8707 Total Reviews',\n",
       " '838 Total Reviews',\n",
       " '357 Total Reviews',\n",
       " '443 Total Reviews',\n",
       " '40 Total Reviews',\n",
       " '26 Total Reviews',\n",
       " '1755 Total Reviews',\n",
       " '248 Total Reviews',\n",
       " '194 Total Reviews',\n",
       " '3601 Total Reviews',\n",
       " '513 Total Reviews',\n",
       " '879 Total Reviews',\n",
       " '3654 Total Reviews',\n",
       " '711 Total Reviews',\n",
       " '221 Total Reviews',\n",
       " '1074 Total Reviews',\n",
       " '2 Total Reviews',\n",
       " '0 Total Reviews',\n",
       " '1168 Total Reviews',\n",
       " '100 Total Reviews',\n",
       " '2775 Total Reviews',\n",
       " '141 Total Reviews',\n",
       " '50 Total Reviews',\n",
       " '2 Total Reviews',\n",
       " '5 Total Reviews',\n",
       " '214 Total Reviews',\n",
       " '2 Total Reviews',\n",
       " '1 Total Review']"
      ]
     },
     "execution_count": 99,
     "metadata": {},
     "output_type": "execute_result"
    }
   ],
   "source": [
    "# Extracting total review avialable from the web-page\n",
    "\n",
    "total_reviews = []\n",
    "total_r = driver.find_elements_by_xpath('//div[@class = \"reviews\"]')\n",
    "for i in total_r :\n",
    "    total_reviews.append(i.text)\n",
    "\n",
    "total_reviews"
   ]
  },
  {
   "cell_type": "code",
   "execution_count": 101,
   "metadata": {},
   "outputs": [
    {
     "data": {
      "text/plain": [
       "['Rs6151',\n",
       " 'Rs1046',\n",
       " 'Rs4613',\n",
       " 'Rs1845',\n",
       " 'Rs5194',\n",
       " 'Rs2392',\n",
       " 'Rs4613',\n",
       " 'Rs5229',\n",
       " 'Rs3506',\n",
       " 'Rs6810',\n",
       " 'Rs2091',\n",
       " 'Rs5110',\n",
       " 'Rs1948',\n",
       " 'Rs4101',\n",
       " 'Rs1620',\n",
       " 'Rs10047',\n",
       " 'Rs5741',\n",
       " 'Rs1299',\n",
       " 'Rs6297',\n",
       " 'Rs2426',\n",
       " 'Rs4101',\n",
       " 'Rs2597',\n",
       " 'Rs1572',\n",
       " 'Rs2563',\n",
       " 'Rs3588',\n",
       " 'Rs1640',\n",
       " 'Rs4152',\n",
       " 'Rs1476',\n",
       " 'Rs8960',\n",
       " 'Rs2362',\n",
       " 'Rs6664',\n",
       " 'Rs11441',\n",
       " 'Rs1551',\n",
       " 'Rs4208',\n",
       " 'Rs1753',\n",
       " 'Rs6047',\n",
       " 'Rs5194',\n",
       " 'Rs4169',\n",
       " 'Rs5905',\n",
       " 'Rs3599',\n",
       " 'Rs7304',\n",
       " 'Rs3452',\n",
       " 'Rs5741']"
      ]
     },
     "execution_count": 101,
     "metadata": {},
     "output_type": "execute_result"
    }
   ],
   "source": [
    "# Extracting the private starting price\n",
    "\n",
    "private_from_price = []\n",
    "private_price = driver.find_elements_by_xpath('//div[@class = \"price title-5\"]')\n",
    "for i in private_price :\n",
    "    private_from_price.append(i.text)\n",
    "\n",
    "private_from_price"
   ]
  },
  {
   "cell_type": "code",
   "execution_count": 105,
   "metadata": {},
   "outputs": [],
   "source": [
    "data = list(zip(hostel_names, dist_from_city_center, ratings, overall_review, total_reviews, private_from_price))"
   ]
  },
  {
   "cell_type": "code",
   "execution_count": 106,
   "metadata": {
    "scrolled": true
   },
   "outputs": [
    {
     "data": {
      "text/html": [
       "<div>\n",
       "<style scoped>\n",
       "    .dataframe tbody tr th:only-of-type {\n",
       "        vertical-align: middle;\n",
       "    }\n",
       "\n",
       "    .dataframe tbody tr th {\n",
       "        vertical-align: top;\n",
       "    }\n",
       "\n",
       "    .dataframe thead th {\n",
       "        text-align: right;\n",
       "    }\n",
       "</style>\n",
       "<table border=\"1\" class=\"dataframe\">\n",
       "  <thead>\n",
       "    <tr style=\"text-align: right;\">\n",
       "      <th></th>\n",
       "      <th>Hostel Name</th>\n",
       "      <th>Distance from City Centre</th>\n",
       "      <th>Ratings</th>\n",
       "      <th>Overall Review</th>\n",
       "      <th>Total Reviews</th>\n",
       "      <th>Private starting price</th>\n",
       "    </tr>\n",
       "  </thead>\n",
       "  <tbody>\n",
       "    <tr>\n",
       "      <th>0</th>\n",
       "      <td>Safestay London Elephant &amp; Castle</td>\n",
       "      <td>1.7km</td>\n",
       "      <td>8.1</td>\n",
       "      <td>Fabulous</td>\n",
       "      <td>3947 Total Reviews</td>\n",
       "      <td>Rs6151</td>\n",
       "    </tr>\n",
       "    <tr>\n",
       "      <th>1</th>\n",
       "      <td>International Students House</td>\n",
       "      <td>3.3km</td>\n",
       "      <td>8.5</td>\n",
       "      <td>Fabulous</td>\n",
       "      <td>918 Total Reviews</td>\n",
       "      <td>Rs1046</td>\n",
       "    </tr>\n",
       "    <tr>\n",
       "      <th>2</th>\n",
       "      <td>Astor Museum Inn</td>\n",
       "      <td>2.2km</td>\n",
       "      <td>9.5</td>\n",
       "      <td>Superb</td>\n",
       "      <td>8707 Total Reviews</td>\n",
       "      <td>Rs4613</td>\n",
       "    </tr>\n",
       "    <tr>\n",
       "      <th>3</th>\n",
       "      <td>Park Villa</td>\n",
       "      <td>6.3km</td>\n",
       "      <td>9.4</td>\n",
       "      <td>Superb</td>\n",
       "      <td>838 Total Reviews</td>\n",
       "      <td>Rs1845</td>\n",
       "    </tr>\n",
       "    <tr>\n",
       "      <th>4</th>\n",
       "      <td>Mapesbury Hostel</td>\n",
       "      <td>8.2km</td>\n",
       "      <td>9.7</td>\n",
       "      <td>Rating</td>\n",
       "      <td>357 Total Reviews</td>\n",
       "      <td>Rs5194</td>\n",
       "    </tr>\n",
       "    <tr>\n",
       "      <th>5</th>\n",
       "      <td>247london Hostel and Private Rooms</td>\n",
       "      <td>8.2km</td>\n",
       "      <td>7.7</td>\n",
       "      <td>No Rating</td>\n",
       "      <td>443 Total Reviews</td>\n",
       "      <td>Rs2392</td>\n",
       "    </tr>\n",
       "    <tr>\n",
       "      <th>6</th>\n",
       "      <td>Mornington Camden</td>\n",
       "      <td>4.1km</td>\n",
       "      <td>7.7</td>\n",
       "      <td>No Rating</td>\n",
       "      <td>40 Total Reviews</td>\n",
       "      <td>Rs4613</td>\n",
       "    </tr>\n",
       "    <tr>\n",
       "      <th>7</th>\n",
       "      <td>Burlington Residence</td>\n",
       "      <td>7.1km</td>\n",
       "      <td>6.7</td>\n",
       "      <td>Superb</td>\n",
       "      <td>26 Total Reviews</td>\n",
       "      <td>Rs5229</td>\n",
       "    </tr>\n",
       "    <tr>\n",
       "      <th>8</th>\n",
       "      <td>Saint James Backpackers</td>\n",
       "      <td>5.5km</td>\n",
       "      <td>10</td>\n",
       "      <td>Very Good</td>\n",
       "      <td>1755 Total Reviews</td>\n",
       "      <td>Rs3506</td>\n",
       "    </tr>\n",
       "    <tr>\n",
       "      <th>9</th>\n",
       "      <td>The London Home Hostel</td>\n",
       "      <td>3.6km</td>\n",
       "      <td>9.4</td>\n",
       "      <td>Very Good</td>\n",
       "      <td>248 Total Reviews</td>\n",
       "      <td>Rs6810</td>\n",
       "    </tr>\n",
       "    <tr>\n",
       "      <th>10</th>\n",
       "      <td>Atlas Hostels</td>\n",
       "      <td>4.3km</td>\n",
       "      <td>7.3</td>\n",
       "      <td>Rating</td>\n",
       "      <td>194 Total Reviews</td>\n",
       "      <td>Rs2091</td>\n",
       "    </tr>\n",
       "    <tr>\n",
       "      <th>11</th>\n",
       "      <td>Kensal Green Backpackers</td>\n",
       "      <td>8.2km</td>\n",
       "      <td>9.1</td>\n",
       "      <td>Good</td>\n",
       "      <td>3601 Total Reviews</td>\n",
       "      <td>Rs5110</td>\n",
       "    </tr>\n",
       "    <tr>\n",
       "      <th>12</th>\n",
       "      <td>Prime Backpackers Angel</td>\n",
       "      <td>3.6km</td>\n",
       "      <td>9.8</td>\n",
       "      <td>Superb</td>\n",
       "      <td>513 Total Reviews</td>\n",
       "      <td>Rs1948</td>\n",
       "    </tr>\n",
       "    <tr>\n",
       "      <th>13</th>\n",
       "      <td>Jaeger Acton Hostel</td>\n",
       "      <td>10.4km</td>\n",
       "      <td>9.1</td>\n",
       "      <td>Superb</td>\n",
       "      <td>879 Total Reviews</td>\n",
       "      <td>Rs4101</td>\n",
       "    </tr>\n",
       "    <tr>\n",
       "      <th>14</th>\n",
       "      <td>Abercorn House</td>\n",
       "      <td>7.3km</td>\n",
       "      <td>10</td>\n",
       "      <td>Very Good</td>\n",
       "      <td>3654 Total Reviews</td>\n",
       "      <td>Rs1620</td>\n",
       "    </tr>\n",
       "    <tr>\n",
       "      <th>15</th>\n",
       "      <td>The Backpackshack</td>\n",
       "      <td>10.9km</td>\n",
       "      <td>9.5</td>\n",
       "      <td>Superb</td>\n",
       "      <td>711 Total Reviews</td>\n",
       "      <td>Rs10047</td>\n",
       "    </tr>\n",
       "    <tr>\n",
       "      <th>16</th>\n",
       "      <td>Best London Hostels</td>\n",
       "      <td>8.2km</td>\n",
       "      <td>6.6</td>\n",
       "      <td>No Rating</td>\n",
       "      <td>221 Total Reviews</td>\n",
       "      <td>Rs5741</td>\n",
       "    </tr>\n",
       "    <tr>\n",
       "      <th>17</th>\n",
       "      <td>Safestay London Kensington Holland Park</td>\n",
       "      <td>5.9km</td>\n",
       "      <td>8.8</td>\n",
       "      <td>Superb</td>\n",
       "      <td>1074 Total Reviews</td>\n",
       "      <td>Rs1299</td>\n",
       "    </tr>\n",
       "    <tr>\n",
       "      <th>18</th>\n",
       "      <td>Selina Camden</td>\n",
       "      <td>5.5km</td>\n",
       "      <td>8.7</td>\n",
       "      <td>Superb</td>\n",
       "      <td>2 Total Reviews</td>\n",
       "      <td>Rs6297</td>\n",
       "    </tr>\n",
       "    <tr>\n",
       "      <th>19</th>\n",
       "      <td>The Dictionary Hostel</td>\n",
       "      <td>4.1km</td>\n",
       "      <td>7.7</td>\n",
       "      <td>NEW</td>\n",
       "      <td>0 Total Reviews</td>\n",
       "      <td>Rs2426</td>\n",
       "    </tr>\n",
       "  </tbody>\n",
       "</table>\n",
       "</div>"
      ],
      "text/plain": [
       "                                Hostel Name Distance from City Centre Ratings  \\\n",
       "0         Safestay London Elephant & Castle                    1.7km      8.1   \n",
       "1              International Students House                    3.3km      8.5   \n",
       "2                          Astor Museum Inn                    2.2km      9.5   \n",
       "3                                Park Villa                    6.3km      9.4   \n",
       "4                          Mapesbury Hostel                    8.2km      9.7   \n",
       "5        247london Hostel and Private Rooms                    8.2km      7.7   \n",
       "6                         Mornington Camden                    4.1km      7.7   \n",
       "7                      Burlington Residence                    7.1km      6.7   \n",
       "8                   Saint James Backpackers                    5.5km       10   \n",
       "9                    The London Home Hostel                    3.6km      9.4   \n",
       "10                            Atlas Hostels                    4.3km      7.3   \n",
       "11                 Kensal Green Backpackers                    8.2km      9.1   \n",
       "12                  Prime Backpackers Angel                    3.6km      9.8   \n",
       "13                      Jaeger Acton Hostel                    10.4km     9.1   \n",
       "14                           Abercorn House                    7.3km       10   \n",
       "15                        The Backpackshack                    10.9km     9.5   \n",
       "16                      Best London Hostels                    8.2km      6.6   \n",
       "17  Safestay London Kensington Holland Park                    5.9km      8.8   \n",
       "18                            Selina Camden                    5.5km      8.7   \n",
       "19                    The Dictionary Hostel                    4.1km      7.7   \n",
       "\n",
       "   Overall Review       Total Reviews Private starting price  \n",
       "0        Fabulous  3947 Total Reviews                 Rs6151  \n",
       "1        Fabulous   918 Total Reviews                 Rs1046  \n",
       "2          Superb  8707 Total Reviews                 Rs4613  \n",
       "3          Superb   838 Total Reviews                 Rs1845  \n",
       "4          Rating   357 Total Reviews                 Rs5194  \n",
       "5       No Rating   443 Total Reviews                 Rs2392  \n",
       "6       No Rating    40 Total Reviews                 Rs4613  \n",
       "7          Superb    26 Total Reviews                 Rs5229  \n",
       "8       Very Good  1755 Total Reviews                 Rs3506  \n",
       "9       Very Good   248 Total Reviews                 Rs6810  \n",
       "10         Rating   194 Total Reviews                 Rs2091  \n",
       "11           Good  3601 Total Reviews                 Rs5110  \n",
       "12         Superb   513 Total Reviews                 Rs1948  \n",
       "13         Superb   879 Total Reviews                 Rs4101  \n",
       "14      Very Good  3654 Total Reviews                 Rs1620  \n",
       "15         Superb   711 Total Reviews                Rs10047  \n",
       "16      No Rating   221 Total Reviews                 Rs5741  \n",
       "17         Superb  1074 Total Reviews                 Rs1299  \n",
       "18         Superb     2 Total Reviews                 Rs6297  \n",
       "19            NEW     0 Total Reviews                 Rs2426  "
      ]
     },
     "execution_count": 106,
     "metadata": {},
     "output_type": "execute_result"
    }
   ],
   "source": [
    "# loading the data avialable in the dataframe\n",
    "\n",
    "df = pd.DataFrame(data, columns=['Hostel Name', 'Distance from City Centre', 'Ratings', 'Overall Review', 'Total Reviews', 'Private starting price'])\n",
    "df"
   ]
  },
  {
   "cell_type": "code",
   "execution_count": null,
   "metadata": {},
   "outputs": [],
   "source": []
  }
 ],
 "metadata": {
  "kernelspec": {
   "display_name": "Python 3",
   "language": "python",
   "name": "python3"
  },
  "language_info": {
   "codemirror_mode": {
    "name": "ipython",
    "version": 3
   },
   "file_extension": ".py",
   "mimetype": "text/x-python",
   "name": "python",
   "nbconvert_exporter": "python",
   "pygments_lexer": "ipython3",
   "version": "3.8.8"
  }
 },
 "nbformat": 4,
 "nbformat_minor": 4
}
